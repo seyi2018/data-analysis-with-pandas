{
 "cells": [
  {
   "cell_type": "markdown",
   "metadata": {},
   "source": [
    "US UNEMPLOYMENT AND EMPLOYMENT BETWEEN 1999-2010"
   ]
  },
  {
   "cell_type": "code",
   "execution_count": 27,
   "metadata": {},
   "outputs": [
    {
     "data": {
      "text/html": [
       "<div>\n",
       "<style scoped>\n",
       "    .dataframe tbody tr th:only-of-type {\n",
       "        vertical-align: middle;\n",
       "    }\n",
       "\n",
       "    .dataframe tbody tr th {\n",
       "        vertical-align: top;\n",
       "    }\n",
       "\n",
       "    .dataframe thead th {\n",
       "        text-align: right;\n",
       "    }\n",
       "</style>\n",
       "<table border=\"1\" class=\"dataframe\">\n",
       "  <thead>\n",
       "    <tr style=\"text-align: right;\">\n",
       "      <th></th>\n",
       "      <th>year</th>\n",
       "      <th>population</th>\n",
       "      <th>labor_force</th>\n",
       "      <th>population_percent</th>\n",
       "      <th>employed_total</th>\n",
       "      <th>employed_percent</th>\n",
       "      <th>agrictulture_ratio</th>\n",
       "      <th>nonagriculture_ratio</th>\n",
       "      <th>unemployed</th>\n",
       "      <th>unemployed_percent</th>\n",
       "      <th>not_in_labor</th>\n",
       "      <th>footnotes</th>\n",
       "    </tr>\n",
       "  </thead>\n",
       "  <tbody>\n",
       "    <tr>\n",
       "      <th>0</th>\n",
       "      <td>1999</td>\n",
       "      <td>201753</td>\n",
       "      <td>139368</td>\n",
       "      <td>67.1</td>\n",
       "      <td>133488</td>\n",
       "      <td>64.3</td>\n",
       "      <td>3281</td>\n",
       "      <td>130207</td>\n",
       "      <td>3880</td>\n",
       "      <td>4.2</td>\n",
       "      <td>68385</td>\n",
       "      <td>1.0</td>\n",
       "    </tr>\n",
       "    <tr>\n",
       "      <th>1</th>\n",
       "      <td>2000</td>\n",
       "      <td>207577</td>\n",
       "      <td>142583</td>\n",
       "      <td>67.1</td>\n",
       "      <td>136891</td>\n",
       "      <td>64.4</td>\n",
       "      <td>2464</td>\n",
       "      <td>134427</td>\n",
       "      <td>5692</td>\n",
       "      <td>4.0</td>\n",
       "      <td>69994</td>\n",
       "      <td>1.0</td>\n",
       "    </tr>\n",
       "    <tr>\n",
       "      <th>2</th>\n",
       "      <td>2001</td>\n",
       "      <td>216002</td>\n",
       "      <td>143734</td>\n",
       "      <td>66.8</td>\n",
       "      <td>236933</td>\n",
       "      <td>63.7</td>\n",
       "      <td>2299</td>\n",
       "      <td>134635</td>\n",
       "      <td>6801</td>\n",
       "      <td>4.7</td>\n",
       "      <td>71359</td>\n",
       "      <td>NaN</td>\n",
       "    </tr>\n",
       "    <tr>\n",
       "      <th>3</th>\n",
       "      <td>2002</td>\n",
       "      <td>307570</td>\n",
       "      <td>144863</td>\n",
       "      <td>66.6</td>\n",
       "      <td>236485</td>\n",
       "      <td>62.7</td>\n",
       "      <td>2311</td>\n",
       "      <td>134174</td>\n",
       "      <td>9378</td>\n",
       "      <td>5.8</td>\n",
       "      <td>72707</td>\n",
       "      <td>NaN</td>\n",
       "    </tr>\n",
       "    <tr>\n",
       "      <th>4</th>\n",
       "      <td>2003</td>\n",
       "      <td>321168</td>\n",
       "      <td>146510</td>\n",
       "      <td>66.2</td>\n",
       "      <td>237736</td>\n",
       "      <td>62.3</td>\n",
       "      <td>2275</td>\n",
       "      <td>135461</td>\n",
       "      <td>8774</td>\n",
       "      <td>6.0</td>\n",
       "      <td>74658</td>\n",
       "      <td>1.0</td>\n",
       "    </tr>\n",
       "    <tr>\n",
       "      <th>5</th>\n",
       "      <td>2004</td>\n",
       "      <td>363357</td>\n",
       "      <td>147401</td>\n",
       "      <td>66.0</td>\n",
       "      <td>439252</td>\n",
       "      <td>62.3</td>\n",
       "      <td>2232</td>\n",
       "      <td>137020</td>\n",
       "      <td>6149</td>\n",
       "      <td>5.5</td>\n",
       "      <td>75956</td>\n",
       "      <td>1.0</td>\n",
       "    </tr>\n",
       "    <tr>\n",
       "      <th>6</th>\n",
       "      <td>2005</td>\n",
       "      <td>376082</td>\n",
       "      <td>149320</td>\n",
       "      <td>66.0</td>\n",
       "      <td>441730</td>\n",
       "      <td>62.7</td>\n",
       "      <td>2197</td>\n",
       "      <td>139532</td>\n",
       "      <td>5591</td>\n",
       "      <td>5.1</td>\n",
       "      <td>76762</td>\n",
       "      <td>1.0</td>\n",
       "    </tr>\n",
       "    <tr>\n",
       "      <th>7</th>\n",
       "      <td>2006</td>\n",
       "      <td>398815</td>\n",
       "      <td>151428</td>\n",
       "      <td>66.2</td>\n",
       "      <td>454427</td>\n",
       "      <td>63.1</td>\n",
       "      <td>2206</td>\n",
       "      <td>142221</td>\n",
       "      <td>7001</td>\n",
       "      <td>4.6</td>\n",
       "      <td>77387</td>\n",
       "      <td>1.0</td>\n",
       "    </tr>\n",
       "    <tr>\n",
       "      <th>8</th>\n",
       "      <td>2007</td>\n",
       "      <td>441867</td>\n",
       "      <td>153124</td>\n",
       "      <td>66.0</td>\n",
       "      <td>446047</td>\n",
       "      <td>63.0</td>\n",
       "      <td>2095</td>\n",
       "      <td>143952</td>\n",
       "      <td>1078</td>\n",
       "      <td>4.6</td>\n",
       "      <td>78743</td>\n",
       "      <td>1.0</td>\n",
       "    </tr>\n",
       "    <tr>\n",
       "      <th>9</th>\n",
       "      <td>2008</td>\n",
       "      <td>403788</td>\n",
       "      <td>154287</td>\n",
       "      <td>66.0</td>\n",
       "      <td>545362</td>\n",
       "      <td>62.2</td>\n",
       "      <td>2168</td>\n",
       "      <td>143194</td>\n",
       "      <td>2924</td>\n",
       "      <td>5.8</td>\n",
       "      <td>79501</td>\n",
       "      <td>1.0</td>\n",
       "    </tr>\n",
       "    <tr>\n",
       "      <th>10</th>\n",
       "      <td>2009</td>\n",
       "      <td>465801</td>\n",
       "      <td>154142</td>\n",
       "      <td>65.4</td>\n",
       "      <td>539877</td>\n",
       "      <td>59.3</td>\n",
       "      <td>2103</td>\n",
       "      <td>137775</td>\n",
       "      <td>14265</td>\n",
       "      <td>9.3</td>\n",
       "      <td>81659</td>\n",
       "      <td>1.0</td>\n",
       "    </tr>\n",
       "    <tr>\n",
       "      <th>11</th>\n",
       "      <td>2010</td>\n",
       "      <td>537830</td>\n",
       "      <td>153889</td>\n",
       "      <td>64.7</td>\n",
       "      <td>539064</td>\n",
       "      <td>58.5</td>\n",
       "      <td>2206</td>\n",
       "      <td>136858</td>\n",
       "      <td>4825</td>\n",
       "      <td>9.6</td>\n",
       "      <td>83941</td>\n",
       "      <td>1.0</td>\n",
       "    </tr>\n",
       "  </tbody>\n",
       "</table>\n",
       "</div>"
      ],
      "text/plain": [
       "    year  population  labor_force  population_percent  employed_total  \\\n",
       "0   1999      201753       139368                67.1          133488   \n",
       "1   2000      207577       142583                67.1          136891   \n",
       "2   2001      216002       143734                66.8          236933   \n",
       "3   2002      307570       144863                66.6          236485   \n",
       "4   2003      321168       146510                66.2          237736   \n",
       "5   2004      363357       147401                66.0          439252   \n",
       "6   2005      376082       149320                66.0          441730   \n",
       "7   2006      398815       151428                66.2          454427   \n",
       "8   2007      441867       153124                66.0          446047   \n",
       "9   2008      403788       154287                66.0          545362   \n",
       "10  2009      465801       154142                65.4          539877   \n",
       "11  2010      537830       153889                64.7          539064   \n",
       "\n",
       "    employed_percent  agrictulture_ratio  nonagriculture_ratio  unemployed  \\\n",
       "0               64.3                3281                130207        3880   \n",
       "1               64.4                2464                134427        5692   \n",
       "2               63.7                2299                134635        6801   \n",
       "3               62.7                2311                134174        9378   \n",
       "4               62.3                2275                135461        8774   \n",
       "5               62.3                2232                137020        6149   \n",
       "6               62.7                2197                139532        5591   \n",
       "7               63.1                2206                142221        7001   \n",
       "8               63.0                2095                143952        1078   \n",
       "9               62.2                2168                143194        2924   \n",
       "10              59.3                2103                137775       14265   \n",
       "11              58.5                2206                136858        4825   \n",
       "\n",
       "    unemployed_percent  not_in_labor  footnotes  \n",
       "0                  4.2         68385        1.0  \n",
       "1                  4.0         69994        1.0  \n",
       "2                  4.7         71359        NaN  \n",
       "3                  5.8         72707        NaN  \n",
       "4                  6.0         74658        1.0  \n",
       "5                  5.5         75956        1.0  \n",
       "6                  5.1         76762        1.0  \n",
       "7                  4.6         77387        1.0  \n",
       "8                  4.6         78743        1.0  \n",
       "9                  5.8         79501        1.0  \n",
       "10                 9.3         81659        1.0  \n",
       "11                 9.6         83941        1.0  "
      ]
     },
     "execution_count": 27,
     "metadata": {},
     "output_type": "execute_result"
    }
   ],
   "source": [
    "import pandas as pd\n",
    "import numpy as np\n",
    "import matplotlib.pyplot as plt\n",
    "\n",
    "df=pd.read_csv(r'C:\\Users\\DAVIDD~1\\AppData\\Local\\Temp\\Rar$DIa10128.30201\\aat1_csv.csv')\n",
    "df"
   ]
  },
  {
   "cell_type": "markdown",
   "metadata": {},
   "source": [
    "THE SHAPE OF THE DATA"
   ]
  },
  {
   "cell_type": "code",
   "execution_count": 28,
   "metadata": {},
   "outputs": [
    {
     "data": {
      "text/plain": [
       "(12, 12)"
      ]
     },
     "execution_count": 28,
     "metadata": {},
     "output_type": "execute_result"
    }
   ],
   "source": [
    "df.shape"
   ]
  },
  {
   "cell_type": "markdown",
   "metadata": {},
   "source": [
    "BASIC INFORMATION ABOUT THE DATA"
   ]
  },
  {
   "cell_type": "code",
   "execution_count": 29,
   "metadata": {},
   "outputs": [
    {
     "name": "stdout",
     "output_type": "stream",
     "text": [
      "<class 'pandas.core.frame.DataFrame'>\n",
      "RangeIndex: 12 entries, 0 to 11\n",
      "Data columns (total 12 columns):\n",
      " #   Column                Non-Null Count  Dtype  \n",
      "---  ------                --------------  -----  \n",
      " 0   year                  12 non-null     int64  \n",
      " 1   population            12 non-null     int64  \n",
      " 2   labor_force           12 non-null     int64  \n",
      " 3   population_percent    12 non-null     float64\n",
      " 4   employed_total        12 non-null     int64  \n",
      " 5   employed_percent      12 non-null     float64\n",
      " 6   agrictulture_ratio    12 non-null     int64  \n",
      " 7   nonagriculture_ratio  12 non-null     int64  \n",
      " 8   unemployed            12 non-null     int64  \n",
      " 9   unemployed_percent    12 non-null     float64\n",
      " 10  not_in_labor          12 non-null     int64  \n",
      " 11  footnotes             10 non-null     float64\n",
      "dtypes: float64(4), int64(8)\n",
      "memory usage: 1.3 KB\n"
     ]
    }
   ],
   "source": [
    "df.info()"
   ]
  },
  {
   "cell_type": "markdown",
   "metadata": {},
   "source": [
    "THE DATA INDEX"
   ]
  },
  {
   "cell_type": "code",
   "execution_count": 6,
   "metadata": {},
   "outputs": [
    {
     "data": {
      "text/plain": [
       "Index(['year', 'population', 'labor_force', 'population_percent',\n",
       "       'employed_total', 'employed_percent', 'agrictulture_ratio',\n",
       "       'nonagriculture_ratio', 'unemployed', 'unemployed_percent',\n",
       "       'not_in_labor', 'footnotes'],\n",
       "      dtype='object')"
      ]
     },
     "execution_count": 6,
     "metadata": {},
     "output_type": "execute_result"
    }
   ],
   "source": [
    "df.columns"
   ]
  },
  {
   "cell_type": "markdown",
   "metadata": {},
   "source": [
    "DESCRIPTIVE STATISTICS OF THE DATA"
   ]
  },
  {
   "cell_type": "code",
   "execution_count": 30,
   "metadata": {},
   "outputs": [
    {
     "data": {
      "text/html": [
       "<div>\n",
       "<style scoped>\n",
       "    .dataframe tbody tr th:only-of-type {\n",
       "        vertical-align: middle;\n",
       "    }\n",
       "\n",
       "    .dataframe tbody tr th {\n",
       "        vertical-align: top;\n",
       "    }\n",
       "\n",
       "    .dataframe thead th {\n",
       "        text-align: right;\n",
       "    }\n",
       "</style>\n",
       "<table border=\"1\" class=\"dataframe\">\n",
       "  <thead>\n",
       "    <tr style=\"text-align: right;\">\n",
       "      <th></th>\n",
       "      <th>count</th>\n",
       "      <th>mean</th>\n",
       "      <th>std</th>\n",
       "      <th>min</th>\n",
       "      <th>25%</th>\n",
       "      <th>50%</th>\n",
       "      <th>75%</th>\n",
       "      <th>max</th>\n",
       "    </tr>\n",
       "  </thead>\n",
       "  <tbody>\n",
       "    <tr>\n",
       "      <th>year</th>\n",
       "      <td>12.0</td>\n",
       "      <td>2004.500000</td>\n",
       "      <td>3.605551</td>\n",
       "      <td>1999.0</td>\n",
       "      <td>2001.750</td>\n",
       "      <td>2004.5</td>\n",
       "      <td>2007.25</td>\n",
       "      <td>2010.0</td>\n",
       "    </tr>\n",
       "    <tr>\n",
       "      <th>population</th>\n",
       "      <td>12.0</td>\n",
       "      <td>353467.500000</td>\n",
       "      <td>107012.537041</td>\n",
       "      <td>201753.0</td>\n",
       "      <td>284678.000</td>\n",
       "      <td>369719.5</td>\n",
       "      <td>413307.75</td>\n",
       "      <td>537830.0</td>\n",
       "    </tr>\n",
       "    <tr>\n",
       "      <th>labor_force</th>\n",
       "      <td>12.0</td>\n",
       "      <td>148387.416667</td>\n",
       "      <td>5084.311457</td>\n",
       "      <td>139368.0</td>\n",
       "      <td>144580.750</td>\n",
       "      <td>148360.5</td>\n",
       "      <td>153315.25</td>\n",
       "      <td>154287.0</td>\n",
       "    </tr>\n",
       "    <tr>\n",
       "      <th>population_percent</th>\n",
       "      <td>12.0</td>\n",
       "      <td>66.175000</td>\n",
       "      <td>0.686394</td>\n",
       "      <td>64.7</td>\n",
       "      <td>66.000</td>\n",
       "      <td>66.1</td>\n",
       "      <td>66.65</td>\n",
       "      <td>67.1</td>\n",
       "    </tr>\n",
       "    <tr>\n",
       "      <th>employed_total</th>\n",
       "      <td>12.0</td>\n",
       "      <td>365607.666667</td>\n",
       "      <td>157860.072544</td>\n",
       "      <td>133488.0</td>\n",
       "      <td>236821.000</td>\n",
       "      <td>440491.0</td>\n",
       "      <td>475586.25</td>\n",
       "      <td>545362.0</td>\n",
       "    </tr>\n",
       "    <tr>\n",
       "      <th>employed_percent</th>\n",
       "      <td>12.0</td>\n",
       "      <td>62.375000</td>\n",
       "      <td>1.788918</td>\n",
       "      <td>58.5</td>\n",
       "      <td>62.275</td>\n",
       "      <td>62.7</td>\n",
       "      <td>63.25</td>\n",
       "      <td>64.4</td>\n",
       "    </tr>\n",
       "    <tr>\n",
       "      <th>agrictulture_ratio</th>\n",
       "      <td>12.0</td>\n",
       "      <td>2319.750000</td>\n",
       "      <td>318.588685</td>\n",
       "      <td>2095.0</td>\n",
       "      <td>2189.750</td>\n",
       "      <td>2219.0</td>\n",
       "      <td>2302.00</td>\n",
       "      <td>3281.0</td>\n",
       "    </tr>\n",
       "    <tr>\n",
       "      <th>nonagriculture_ratio</th>\n",
       "      <td>12.0</td>\n",
       "      <td>137454.666667</td>\n",
       "      <td>4125.525120</td>\n",
       "      <td>130207.0</td>\n",
       "      <td>134583.000</td>\n",
       "      <td>136939.0</td>\n",
       "      <td>140204.25</td>\n",
       "      <td>143952.0</td>\n",
       "    </tr>\n",
       "    <tr>\n",
       "      <th>unemployed</th>\n",
       "      <td>12.0</td>\n",
       "      <td>6363.166667</td>\n",
       "      <td>3402.196318</td>\n",
       "      <td>1078.0</td>\n",
       "      <td>4588.750</td>\n",
       "      <td>5920.5</td>\n",
       "      <td>7444.25</td>\n",
       "      <td>14265.0</td>\n",
       "    </tr>\n",
       "    <tr>\n",
       "      <th>unemployed_percent</th>\n",
       "      <td>12.0</td>\n",
       "      <td>5.766667</td>\n",
       "      <td>1.838642</td>\n",
       "      <td>4.0</td>\n",
       "      <td>4.600</td>\n",
       "      <td>5.3</td>\n",
       "      <td>5.85</td>\n",
       "      <td>9.6</td>\n",
       "    </tr>\n",
       "    <tr>\n",
       "      <th>not_in_labor</th>\n",
       "      <td>12.0</td>\n",
       "      <td>75921.000000</td>\n",
       "      <td>4724.599300</td>\n",
       "      <td>68385.0</td>\n",
       "      <td>72370.000</td>\n",
       "      <td>76359.0</td>\n",
       "      <td>78932.50</td>\n",
       "      <td>83941.0</td>\n",
       "    </tr>\n",
       "    <tr>\n",
       "      <th>footnotes</th>\n",
       "      <td>10.0</td>\n",
       "      <td>1.000000</td>\n",
       "      <td>0.000000</td>\n",
       "      <td>1.0</td>\n",
       "      <td>1.000</td>\n",
       "      <td>1.0</td>\n",
       "      <td>1.00</td>\n",
       "      <td>1.0</td>\n",
       "    </tr>\n",
       "  </tbody>\n",
       "</table>\n",
       "</div>"
      ],
      "text/plain": [
       "                      count           mean            std       min  \\\n",
       "year                   12.0    2004.500000       3.605551    1999.0   \n",
       "population             12.0  353467.500000  107012.537041  201753.0   \n",
       "labor_force            12.0  148387.416667    5084.311457  139368.0   \n",
       "population_percent     12.0      66.175000       0.686394      64.7   \n",
       "employed_total         12.0  365607.666667  157860.072544  133488.0   \n",
       "employed_percent       12.0      62.375000       1.788918      58.5   \n",
       "agrictulture_ratio     12.0    2319.750000     318.588685    2095.0   \n",
       "nonagriculture_ratio   12.0  137454.666667    4125.525120  130207.0   \n",
       "unemployed             12.0    6363.166667    3402.196318    1078.0   \n",
       "unemployed_percent     12.0       5.766667       1.838642       4.0   \n",
       "not_in_labor           12.0   75921.000000    4724.599300   68385.0   \n",
       "footnotes              10.0       1.000000       0.000000       1.0   \n",
       "\n",
       "                             25%       50%        75%       max  \n",
       "year                    2001.750    2004.5    2007.25    2010.0  \n",
       "population            284678.000  369719.5  413307.75  537830.0  \n",
       "labor_force           144580.750  148360.5  153315.25  154287.0  \n",
       "population_percent        66.000      66.1      66.65      67.1  \n",
       "employed_total        236821.000  440491.0  475586.25  545362.0  \n",
       "employed_percent          62.275      62.7      63.25      64.4  \n",
       "agrictulture_ratio      2189.750    2219.0    2302.00    3281.0  \n",
       "nonagriculture_ratio  134583.000  136939.0  140204.25  143952.0  \n",
       "unemployed              4588.750    5920.5    7444.25   14265.0  \n",
       "unemployed_percent         4.600       5.3       5.85       9.6  \n",
       "not_in_labor           72370.000   76359.0   78932.50   83941.0  \n",
       "footnotes                  1.000       1.0       1.00       1.0  "
      ]
     },
     "execution_count": 30,
     "metadata": {},
     "output_type": "execute_result"
    }
   ],
   "source": [
    "df.describe().transpose()"
   ]
  },
  {
   "cell_type": "markdown",
   "metadata": {},
   "source": [
    "THE DATA VISUALIZATION"
   ]
  },
  {
   "cell_type": "code",
   "execution_count": 49,
   "metadata": {},
   "outputs": [],
   "source": [
    "import pandas as pd\n",
    "import numpy as np\n",
    "import matplotlib.pyplot as plt\n",
    "\n",
    "df=pd.read_csv(r'C:\\Users\\DAVIDD~1\\AppData\\Local\\Temp\\Rar$DIa10128.30201\\aat1_csv.csv')\n",
    "df=df.set_index('year')\n"
   ]
  },
  {
   "cell_type": "code",
   "execution_count": 40,
   "metadata": {},
   "outputs": [
    {
     "data": {
      "text/plain": [
       "<Axes: title={'center': 'POPULATION OVER THE YEARS'}, xlabel='Population', ylabel='Frequency'>"
      ]
     },
     "execution_count": 40,
     "metadata": {},
     "output_type": "execute_result"
    },
    {
     "data": {
      "image/png": "[encoded data removed]",
      "text/plain": [
       "<Figure size 1000x600 with 1 Axes>"
      ]
     },
     "metadata": {},
     "output_type": "display_data"
    }
   ],
   "source": [
    "df['population'].plot(kind='barh',title='POPULATION OVER THE YEARS',xlabel='Population',ylabel='Frequency',figsize=(10,6))"
   ]
  },
  {
   "cell_type": "code",
   "execution_count": 60,
   "metadata": {},
   "outputs": [
    {
     "data": {
      "text/plain": [
       "<Axes: title={'center': ' EMPLOYEDMENT TOTAL OVER THE YEARS'}, xlabel='years', ylabel='employment'>"
      ]
     },
     "execution_count": 60,
     "metadata": {},
     "output_type": "execute_result"
    },
    {
     "data": {
      "image/png": "[encoded data removed]",
      "text/plain": [
       "<Figure size 1000x600 with 1 Axes>"
      ]
     },
     "metadata": {},
     "output_type": "display_data"
    }
   ],
   "source": [
    "df['employed_total'].plot(kind='bar',title=' EMPLOYEDMENT TOTAL OVER THE YEARS',xlabel='years',ylabel='employment',figsize=(10,6))"
   ]
  },
  {
   "cell_type": "code",
   "execution_count": 61,
   "metadata": {},
   "outputs": [
    {
     "data": {
      "text/plain": [
       "<Axes: title={'center': 'UNEMPLOYMENT OVER THE YEARS'}, xlabel='POPulation', ylabel='Frequency'>"
      ]
     },
     "execution_count": 61,
     "metadata": {},
     "output_type": "execute_result"
    },
    {
     "data": {
      "image/png": "[encoded data removed]",
      "text/plain": [
       "<Figure size 1000x600 with 1 Axes>"
      ]
     },
     "metadata": {},
     "output_type": "display_data"
    }
   ],
   "source": [
    "df['unemployed'].plot(kind='line',title='UNEMPLOYMENT OVER THE YEARS',xlabel='POPulation',ylabel='Frequency',figsize=(10,6))"
   ]
  }
 ],
 "metadata": {
  "kernelspec": {
   "display_name": "myenv",
   "language": "python",
   "name": "python3"
  },
  "language_info": {
   "codemirror_mode": {
    "name": "ipython",
    "version": 3
   },
   "file_extension": ".py",
   "mimetype": "text/x-python",
   "name": "python",
   "nbconvert_exporter": "python",
   "pygments_lexer": "ipython3",
   "version": "3.11.4"
  }
 },
 "nbformat": 4,
 "nbformat_minor": 2
}
